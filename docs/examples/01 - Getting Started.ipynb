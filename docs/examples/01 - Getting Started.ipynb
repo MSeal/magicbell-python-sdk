{
 "cells": [
  {
   "cell_type": "code",
   "execution_count": 1,
   "id": "6e3d41d7",
   "metadata": {
    "pycharm": {
     "name": "#%%\n"
    }
   },
   "outputs": [],
   "source": [
    "import magicbell\n",
    "from magicbell.configuration import Configuration"
   ]
  },
  {
   "cell_type": "code",
   "execution_count": 2,
   "id": "d5b08c88",
   "metadata": {
    "pycharm": {
     "name": "#%%\n"
    }
   },
   "outputs": [],
   "source": [
    "config = Configuration(\n",
    "    api_key=\"MY_API_KEY\",\n",
    "    api_secret=\"MY_API_SECRET\",\n",
    ")"
   ]
  },
  {
   "cell_type": "code",
   "execution_count": 3,
   "id": "c662f208",
   "metadata": {
    "pycharm": {
     "name": "#%%\n"
    }
   },
   "outputs": [
    {
     "name": "stdout",
     "output_type": "stream",
     "text": [
      "Sent notification! id=f4316bc7-c689-461a-93f2-778bc731fab5\n"
     ]
    }
   ],
   "source": [
    "notification = magicbell.Notification(\n",
    "    title=\"My first notification from python!\",\n",
    "    recipients=[magicbell.Recipient(email=\"YOUR_EMAIL\")]\n",
    ")\n",
    "\n",
    "async with magicbell.MagicBell(config) as mb:\n",
    "    response = await mb.realtime.create_notification(\n",
    "        magicbell.WrappedNotification(notification=notification)\n",
    "    )\n",
    "    print(f\"Sent notification! id={response.notification.id}\")"
   ]
  }
 ],
 "metadata": {
  "kernelspec": {
   "display_name": "Python 3 (ipykernel)",
   "language": "python",
   "name": "python3"
  },
  "language_info": {
   "codemirror_mode": {
    "name": "ipython",
    "version": 3
   },
   "file_extension": ".py",
   "mimetype": "text/x-python",
   "name": "python",
   "nbconvert_exporter": "python",
   "pygments_lexer": "ipython3",
   "version": "3.8.13"
  }
 },
 "nbformat": 4,
 "nbformat_minor": 5
}