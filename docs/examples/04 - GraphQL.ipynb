{
 "cells": [
  {
   "cell_type": "code",
   "execution_count": 1,
   "metadata": {
    "collapsed": true,
    "pycharm": {
     "name": "#%%\n"
    }
   },
   "outputs": [],
   "source": [
    "import magicbell\n",
    "from magicbell.configuration import Configuration"
   ]
  },
  {
   "cell_type": "code",
   "execution_count": 2,
   "outputs": [],
   "source": [
    "config = Configuration(\n",
    "    api_key=\"MY_API_KEY\",\n",
    "    api_secret=\"MY_API_SECRET\",\n",
    ")"
   ],
   "metadata": {
    "collapsed": false,
    "pycharm": {
     "name": "#%%\n"
    }
   }
  },
  {
   "cell_type": "code",
   "execution_count": 3,
   "outputs": [],
   "source": [
    "query = \"\"\"query listUsers($limit: Int!) {\n",
    "\tusers(first: $limit) {\n",
    "\t\ttotalCount\n",
    "\t\tnodes {\n",
    "\t\t\tid\n",
    "\t\t\temail\n",
    "\t\t}\n",
    "\t}\n",
    "}\n",
    "\"\"\""
   ],
   "metadata": {
    "collapsed": false,
    "pycharm": {
     "name": "#%%\n"
    }
   }
  },
  {
   "cell_type": "code",
   "execution_count": 4,
   "outputs": [
    {
     "name": "stdout",
     "output_type": "stream",
     "text": [
      "Total count: 2\n",
      "a9432946-08d5-4c7b-b064-feb36dbddc09: eli@example.com\n",
      "0f38fa40-92ae-436a-8014-087a415fb2f1: james@example.com\n"
     ]
    }
   ],
   "source": [
    "async with magicbell.MagicBell(config) as mb:\n",
    "    response = await mb.graphql.query(\n",
    "        query=query,\n",
    "        variables={\"limit\": 10},\n",
    "    )\n",
    "\n",
    "    total_count = response[\"data\"][\"users\"][\"totalCount\"]\n",
    "    users = response[\"data\"][\"users\"][\"nodes\"]\n",
    "\n",
    "    print(f\"Total count: {total_count}\")\n",
    "    for user in users:\n",
    "        print(f\"{user['id']}: {user['email']}\")\n"
   ],
   "metadata": {
    "collapsed": false,
    "pycharm": {
     "name": "#%%\n"
    }
   }
  }
 ],
 "metadata": {
  "kernelspec": {
   "display_name": "Python 3",
   "language": "python",
   "name": "python3"
  },
  "language_info": {
   "codemirror_mode": {
    "name": "ipython",
    "version": 2
   },
   "file_extension": ".py",
   "mimetype": "text/x-python",
   "name": "python",
   "nbconvert_exporter": "python",
   "pygments_lexer": "ipython2",
   "version": "2.7.6"
  }
 },
 "nbformat": 4,
 "nbformat_minor": 0
}