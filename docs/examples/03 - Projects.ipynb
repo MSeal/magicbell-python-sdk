{
 "cells": [
  {
   "cell_type": "markdown",
   "source": [
    "_Note: this functionality is only available to Enterprise customers._\n",
    "\n",
    "Ask MagicBell support for your workspace ID and user JWT."
   ],
   "metadata": {
    "collapsed": false,
    "pycharm": {
     "name": "#%% md\n"
    }
   }
  },
  {
   "cell_type": "code",
   "execution_count": 1,
   "outputs": [],
   "source": [
    "import magicbell\n",
    "from magicbell.configuration import Configuration"
   ],
   "metadata": {
    "collapsed": false,
    "pycharm": {
     "name": "#%%\n"
    }
   }
  },
  {
   "cell_type": "code",
   "execution_count": 2,
   "outputs": [],
   "source": [
    "config = Configuration(\n",
    "    user_jwt=\"YOUR_USER_JWT\",\n",
    ")\n",
    "WORKSPACE_ID: int = -1  # Replace with your workspace ID"
   ],
   "metadata": {
    "collapsed": false,
    "pycharm": {
     "name": "#%%\n"
    }
   }
  },
  {
   "cell_type": "code",
   "execution_count": 3,
   "outputs": [
    {
     "name": "stdout",
     "output_type": "stream",
     "text": [
      "Example Dev (555555)\n",
      "Example Test (555555)\n"
     ]
    }
   ],
   "source": [
    "async with magicbell.MagicBell(config) as mb:\n",
    "    projects = (await mb.projects.list_projects(WORKSPACE_ID)).projects\n",
    "    for project in projects:\n",
    "        print(f\"{project.name} ({project.id})\")\n"
   ],
   "metadata": {
    "collapsed": false,
    "pycharm": {
     "name": "#%%\n"
    }
   }
  }
 ],
 "metadata": {
  "kernelspec": {
   "display_name": "Python 3",
   "language": "python",
   "name": "python3"
  },
  "language_info": {
   "codemirror_mode": {
    "name": "ipython",
    "version": 2
   },
   "file_extension": ".py",
   "mimetype": "text/x-python",
   "name": "python",
   "nbconvert_exporter": "python",
   "pygments_lexer": "ipython2",
   "version": "2.7.6"
  }
 },
 "nbformat": 4,
 "nbformat_minor": 0
}