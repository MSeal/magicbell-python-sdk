{
 "cells": [
  {
   "cell_type": "code",
   "execution_count": 1,
   "outputs": [],
   "source": [
    "import magicbell\n",
    "from magicbell.configuration import Configuration"
   ],
   "metadata": {
    "collapsed": false,
    "pycharm": {
     "name": "#%%\n"
    }
   }
  },
  {
   "cell_type": "code",
   "execution_count": 2,
   "outputs": [],
   "source": [
    "config = Configuration(\n",
    "    api_key=\"MY_API_KEY\",\n",
    "    api_secret=\"MY_API_SECRET\",\n",
    ")"
   ],
   "metadata": {
    "collapsed": false,
    "pycharm": {
     "name": "#%%\n"
    }
   }
  },
  {
   "cell_type": "code",
   "execution_count": 3,
   "outputs": [
    {
     "name": "stdout",
     "output_type": "stream",
     "text": [
      "Created user! 091c71c6-eccd-4113-b595-19c0357e81b2\n"
     ]
    }
   ],
   "source": [
    "user = magicbell.User(\n",
    "    external_id=\"MY_EXTERNAL_ID\",\n",
    "    email=\"MY_EMAIL\",\n",
    "    first_name=\"MY_FIRST_NAME\",\n",
    "    last_name=\"MY_LAST_NAME\",\n",
    "    custom_attributes={\"foo\": \"bar\"},\n",
    ")\n",
    "\n",
    "async with magicbell.MagicBell(config) as mb:\n",
    "    response = await mb.users.create_user(magicbell.WrappedUser(user=user))\n",
    "    print(f\"Created user! {response.user.id}\")\n"
   ],
   "metadata": {
    "collapsed": false,
    "pycharm": {
     "name": "#%%\n"
    }
   }
  }
 ],
 "metadata": {
  "kernelspec": {
   "display_name": "Python 3",
   "language": "python",
   "name": "python3"
  },
  "language_info": {
   "codemirror_mode": {
    "name": "ipython",
    "version": 2
   },
   "file_extension": ".py",
   "mimetype": "text/x-python",
   "name": "python",
   "nbconvert_exporter": "python",
   "pygments_lexer": "ipython2",
   "version": "2.7.6"
  }
 },
 "nbformat": 4,
 "nbformat_minor": 0
}